{
 "cells": [
  {
   "cell_type": "code",
   "execution_count": 2,
   "metadata": {},
   "outputs": [],
   "source": [
    "from segyio_wrapper import SGY_Reader"
   ]
  },
  {
   "cell_type": "markdown",
   "metadata": {},
   "source": [
    "# Quick and Simple Example"
   ]
  },
  {
   "cell_type": "code",
   "execution_count": 3,
   "metadata": {},
   "outputs": [
    {
     "name": "stdout",
     "output_type": "stream",
     "text": [
      "--> 1 iline slices from sample.segy loaded in 0.02 sec\n"
     ]
    }
   ],
   "source": [
    "# creating a SGY reader object\n",
    "file_name = 'sample.segy'\n",
    "reader = SGY_Reader(file_name)\n",
    "\n",
    "# loading a single iline slice\n",
    "data = reader.get_data(ilines=1000)"
   ]
  },
  {
   "cell_type": "markdown",
   "metadata": {},
   "source": [
    "# More Extensive Examples"
   ]
  },
  {
   "cell_type": "code",
   "execution_count": 4,
   "metadata": {},
   "outputs": [],
   "source": [
    "# creating a SGY reader object\n",
    "file_name = 'sample.segy'\n",
    "reader = SGY_Reader(file_name)"
   ]
  },
  {
   "cell_type": "code",
   "execution_count": 5,
   "metadata": {},
   "outputs": [
    {
     "name": "stdout",
     "output_type": "stream",
     "text": [
      "ilines:\n",
      "[1000, 1001, 1002, 1003, 1004, 1005, 1006, 1007, 1008, 1009]\n",
      "xlines:\n",
      "[1243, 1244, 1245, 1246, 1247, 1248, 1249, 1250, 1251, 1252]\n",
      "depths:\n",
      "range(0, 601)\n"
     ]
    }
   ],
   "source": [
    "# access the ilines and xlines\n",
    "print(\"ilines:\")\n",
    "print(reader.ilines[:10])\n",
    "print(\"xlines:\")\n",
    "print(reader.xlines[:10])\n",
    "print(\"depths:\")\n",
    "print(reader.depths)"
   ]
  },
  {
   "cell_type": "markdown",
   "metadata": {},
   "source": [
    "## Accessing the data"
   ]
  },
  {
   "cell_type": "markdown",
   "metadata": {},
   "source": [
    "### Loading Traces"
   ]
  },
  {
   "cell_type": "markdown",
   "metadata": {},
   "source": [
    "When get_data() function is passed with both ilines and xlines parameters, it would return the traces at the intersection of those."
   ]
  },
  {
   "cell_type": "code",
   "execution_count": 6,
   "metadata": {},
   "outputs": [
    {
     "name": "stdout",
     "output_type": "stream",
     "text": [
      "--> 1 traces from sample.segy loaded in 0.08 sec\n",
      "--> 1 traces from sample.segy loaded in 0.02 sec\n"
     ]
    }
   ],
   "source": [
    "# loading a single trace\n",
    "# using the index (0:n) of ilines and xlines\n",
    "data = reader.get_data(ilines=reader.ilines[0], xlines=reader.xlines[0])\n",
    "# using the actual iline and xline\n",
    "data = reader.get_data(ilines=1000, xlines=1243)"
   ]
  },
  {
   "cell_type": "code",
   "execution_count": 7,
   "metadata": {},
   "outputs": [
    {
     "name": "stdout",
     "output_type": "stream",
     "text": [
      "--> 2 traces from sample.segy loaded in 0.01 sec\n",
      "--> 2 traces from sample.segy loaded in 0.02 sec\n"
     ]
    }
   ],
   "source": [
    "# loading multiple traces\n",
    "# using the index (0:n) of ilines and xlines\n",
    "data = reader.get_data(ilines=reader.ilines[0:2], xlines=reader.xlines[0:2])\n",
    "# using a list of actual ilines and xlines\n",
    "data = reader.get_data(ilines=[1000, 1001], xlines=[1243, 1244])"
   ]
  },
  {
   "cell_type": "markdown",
   "metadata": {},
   "source": [
    "### Loading Inline Slices"
   ]
  },
  {
   "cell_type": "markdown",
   "metadata": {},
   "source": [
    "When get_data() function is passed with only ilines parameter, it would return the slices at those ilines."
   ]
  },
  {
   "cell_type": "code",
   "execution_count": 8,
   "metadata": {},
   "outputs": [
    {
     "name": "stdout",
     "output_type": "stream",
     "text": [
      "--> 1 iline slices from sample.segy loaded in 0.03 sec\n",
      "--> 1 iline slices from sample.segy loaded in 0.03 sec\n"
     ]
    }
   ],
   "source": [
    "# loading a single iline slice\n",
    "# using the index (0:n) of ilines\n",
    "data = reader.get_data(ilines=reader.ilines[0])\n",
    "# using the actual iline\n",
    "data = reader.get_data(ilines=1000)"
   ]
  },
  {
   "cell_type": "code",
   "execution_count": 9,
   "metadata": {},
   "outputs": [
    {
     "name": "stdout",
     "output_type": "stream",
     "text": [
      "--> 2 iline slices from sample.segy loaded in 0.03 sec\n",
      "--> 2 iline slices from sample.segy loaded in 0.03 sec\n"
     ]
    }
   ],
   "source": [
    "# loading multiple iline slices\n",
    "# using the index (0:n) of ilines\n",
    "data = reader.get_data(ilines=reader.ilines[0:2])\n",
    "# using a list of actual ilines\n",
    "data = reader.get_data(ilines=[1000, 1001])"
   ]
  },
  {
   "cell_type": "markdown",
   "metadata": {},
   "source": [
    "### Loading Crossline Slices"
   ]
  },
  {
   "cell_type": "markdown",
   "metadata": {},
   "source": [
    "When get_data() function is passed with only xlines parameter, it would return the slices at those xlines."
   ]
  },
  {
   "cell_type": "code",
   "execution_count": 10,
   "metadata": {},
   "outputs": [
    {
     "name": "stdout",
     "output_type": "stream",
     "text": [
      "--> 1 xline slices from sample.segy loaded in 0.12 sec\n",
      "--> 1 xline slices from sample.segy loaded in 0.02 sec\n"
     ]
    }
   ],
   "source": [
    "# loading a single xline slice\n",
    "# using the index (0:n) of xlines\n",
    "data = reader.get_data(xlines=reader.xlines[0])\n",
    "# using the actual xline\n",
    "data = reader.get_data(xlines=1243)"
   ]
  },
  {
   "cell_type": "code",
   "execution_count": 11,
   "metadata": {},
   "outputs": [
    {
     "name": "stdout",
     "output_type": "stream",
     "text": [
      "--> 2 xline slices from sample.segy loaded in 0.10 sec\n",
      "--> 2 xline slices from sample.segy loaded in 0.11 sec\n"
     ]
    }
   ],
   "source": [
    "# loading multiple xline slices\n",
    "# using the index (0:n) of xlines\n",
    "data = reader.get_data(xlines=reader.xlines[0:2])\n",
    "# using a list of actual xlines\n",
    "data = reader.get_data(xlines=[1243, 1244])"
   ]
  },
  {
   "cell_type": "markdown",
   "metadata": {},
   "source": [
    "### Loading Depth Slices"
   ]
  },
  {
   "cell_type": "markdown",
   "metadata": {},
   "source": [
    "When get_data() function is passed with only depths parameter, it would return the slices at those depths."
   ]
  },
  {
   "cell_type": "code",
   "execution_count": 12,
   "metadata": {},
   "outputs": [
    {
     "name": "stdout",
     "output_type": "stream",
     "text": [
      "--> 1 depth slices from sample.segy loaded in 3.98 sec\n"
     ]
    }
   ],
   "source": [
    "# loading a single depth slice\n",
    "# using the index (0:n) of depths\n",
    "data = reader.get_data(depths=0)"
   ]
  },
  {
   "cell_type": "code",
   "execution_count": 13,
   "metadata": {},
   "outputs": [
    {
     "name": "stdout",
     "output_type": "stream",
     "text": [
      "--> 2 depth slices from sample.segy loaded in 5.18 sec\n"
     ]
    }
   ],
   "source": [
    "# loading multiple depth slices\n",
    "# using the index (0:n) of depths\n",
    "data = reader.get_data(depths=[0, 1])"
   ]
  },
  {
   "cell_type": "code",
   "execution_count": null,
   "metadata": {},
   "outputs": [],
   "source": []
  },
  {
   "cell_type": "code",
   "execution_count": null,
   "metadata": {},
   "outputs": [],
   "source": []
  },
  {
   "cell_type": "code",
   "execution_count": null,
   "metadata": {},
   "outputs": [],
   "source": []
  }
 ],
 "metadata": {
  "interpreter": {
   "hash": "118849df745dec58ae54fcb59318b7097f3c0e94af0da4f1f0a6ee0d039db49c"
  },
  "kernelspec": {
   "display_name": "Python 3.7.4 64-bit ('base': conda)",
   "name": "python3"
  },
  "language_info": {
   "codemirror_mode": {
    "name": "ipython",
    "version": 3
   },
   "file_extension": ".py",
   "mimetype": "text/x-python",
   "name": "python",
   "nbconvert_exporter": "python",
   "pygments_lexer": "ipython3",
   "version": "3.8.10"
  }
 },
 "nbformat": 4,
 "nbformat_minor": 2
}